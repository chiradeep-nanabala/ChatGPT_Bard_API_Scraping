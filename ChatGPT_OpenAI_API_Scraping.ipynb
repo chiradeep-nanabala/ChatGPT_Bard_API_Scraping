{
  "nbformat": 4,
  "nbformat_minor": 0,
  "metadata": {
    "colab": {
      "provenance": []
    },
    "kernelspec": {
      "name": "python3",
      "display_name": "Python 3"
    },
    "language_info": {
      "name": "python"
    }
  },
  "cells": [
    {
      "cell_type": "code",
      "source": [
        "pip install openai"
      ],
      "metadata": {
        "colab": {
          "base_uri": "https://localhost:8080/"
        },
        "id": "LlrlPhzuZbgD",
        "outputId": "78159b06-216f-4af4-fec4-01798256e7ba"
      },
      "execution_count": null,
      "outputs": [
        {
          "output_type": "stream",
          "name": "stdout",
          "text": [
            "Collecting openai\n",
            "  Downloading openai-1.6.1-py3-none-any.whl (225 kB)\n",
            "\u001b[?25l     \u001b[90m━━━━━━━━━━━━━━━━━━━━━━━━━━━━━━━━━━━━━━━━\u001b[0m \u001b[32m0.0/225.4 kB\u001b[0m \u001b[31m?\u001b[0m eta \u001b[36m-:--:--\u001b[0m\r\u001b[2K     \u001b[91m━━━━━━━━━━━━━━\u001b[0m\u001b[91m╸\u001b[0m\u001b[90m━━━━━━━━━━━━━━━━━━━━━━━━━\u001b[0m \u001b[32m81.9/225.4 kB\u001b[0m \u001b[31m2.3 MB/s\u001b[0m eta \u001b[36m0:00:01\u001b[0m\r\u001b[2K     \u001b[90m━━━━━━━━━━━━━━━━━━━━━━━━━━━━━━━━━━━━━━━━\u001b[0m \u001b[32m225.4/225.4 kB\u001b[0m \u001b[31m3.8 MB/s\u001b[0m eta \u001b[36m0:00:00\u001b[0m\n",
            "\u001b[?25hRequirement already satisfied: anyio<5,>=3.5.0 in /usr/local/lib/python3.10/dist-packages (from openai) (3.7.1)\n",
            "Requirement already satisfied: distro<2,>=1.7.0 in /usr/lib/python3/dist-packages (from openai) (1.7.0)\n",
            "Collecting httpx<1,>=0.23.0 (from openai)\n",
            "  Downloading httpx-0.26.0-py3-none-any.whl (75 kB)\n",
            "\u001b[2K     \u001b[90m━━━━━━━━━━━━━━━━━━━━━━━━━━━━━━━━━━━━━━━━\u001b[0m \u001b[32m75.9/75.9 kB\u001b[0m \u001b[31m10.0 MB/s\u001b[0m eta \u001b[36m0:00:00\u001b[0m\n",
            "\u001b[?25hRequirement already satisfied: pydantic<3,>=1.9.0 in /usr/local/lib/python3.10/dist-packages (from openai) (1.10.13)\n",
            "Requirement already satisfied: sniffio in /usr/local/lib/python3.10/dist-packages (from openai) (1.3.0)\n",
            "Requirement already satisfied: tqdm>4 in /usr/local/lib/python3.10/dist-packages (from openai) (4.66.1)\n",
            "Collecting typing-extensions<5,>=4.7 (from openai)\n",
            "  Downloading typing_extensions-4.9.0-py3-none-any.whl (32 kB)\n",
            "Requirement already satisfied: idna>=2.8 in /usr/local/lib/python3.10/dist-packages (from anyio<5,>=3.5.0->openai) (3.6)\n",
            "Requirement already satisfied: exceptiongroup in /usr/local/lib/python3.10/dist-packages (from anyio<5,>=3.5.0->openai) (1.2.0)\n",
            "Requirement already satisfied: certifi in /usr/local/lib/python3.10/dist-packages (from httpx<1,>=0.23.0->openai) (2023.11.17)\n",
            "Collecting httpcore==1.* (from httpx<1,>=0.23.0->openai)\n",
            "  Downloading httpcore-1.0.2-py3-none-any.whl (76 kB)\n",
            "\u001b[2K     \u001b[90m━━━━━━━━━━━━━━━━━━━━━━━━━━━━━━━━━━━━━━━━\u001b[0m \u001b[32m76.9/76.9 kB\u001b[0m \u001b[31m8.2 MB/s\u001b[0m eta \u001b[36m0:00:00\u001b[0m\n",
            "\u001b[?25hCollecting h11<0.15,>=0.13 (from httpcore==1.*->httpx<1,>=0.23.0->openai)\n",
            "  Downloading h11-0.14.0-py3-none-any.whl (58 kB)\n",
            "\u001b[2K     \u001b[90m━━━━━━━━━━━━━━━━━━━━━━━━━━━━━━━━━━━━━━━━\u001b[0m \u001b[32m58.3/58.3 kB\u001b[0m \u001b[31m6.2 MB/s\u001b[0m eta \u001b[36m0:00:00\u001b[0m\n",
            "\u001b[?25hInstalling collected packages: typing-extensions, h11, httpcore, httpx, openai\n",
            "  Attempting uninstall: typing-extensions\n",
            "    Found existing installation: typing_extensions 4.5.0\n",
            "    Uninstalling typing_extensions-4.5.0:\n",
            "      Successfully uninstalled typing_extensions-4.5.0\n",
            "\u001b[31mERROR: pip's dependency resolver does not currently take into account all the packages that are installed. This behaviour is the source of the following dependency conflicts.\n",
            "llmx 0.0.15a0 requires cohere, which is not installed.\n",
            "llmx 0.0.15a0 requires tiktoken, which is not installed.\n",
            "tensorflow-probability 0.22.0 requires typing-extensions<4.6.0, but you have typing-extensions 4.9.0 which is incompatible.\u001b[0m\u001b[31m\n",
            "\u001b[0mSuccessfully installed h11-0.14.0 httpcore-1.0.2 httpx-0.26.0 openai-1.6.1 typing-extensions-4.9.0\n"
          ]
        }
      ]
    },
    {
      "cell_type": "code",
      "execution_count": null,
      "metadata": {
        "id": "jSQd-SeHTUfl"
      },
      "outputs": [],
      "source": [
        "import os\n",
        "import requests\n",
        "\n",
        "bearer_token = os.environ.get('OPENAI_API_KEY')"
      ]
    },
    {
      "cell_type": "code",
      "source": [
        "def generate_prompt(api_url, token, payload=None):\n",
        "    try:\n",
        "        headers = {\n",
        "            'Authorization': f'Bearer {token}',\n",
        "            'Content-Type': 'application/json'\n",
        "        }\n",
        "        response = requests.post(api_url, headers=headers, json=payload)\n",
        "        if response.status_code == 200:\n",
        "            return response.json()\n",
        "        else:\n",
        "            print(f\"API call failed with status code: {response.status_code}\")\n",
        "            print(response.text)\n",
        "            return None\n",
        "    except requests.exceptions.RequestException as e:\n",
        "        print(\"An error occurred while making the API call:\", e)\n",
        "        return None\n",
        "\n",
        "api_url = 'https://api.openai.com/v1/chat/completions'\n",
        "\n",
        "payload = {\n",
        "    \"model\": \"gpt-3.5-turbo\",\n",
        "    \"messages\": [\n",
        "        {\n",
        "            \"role\": \"system\",\n",
        "            \"content\": \"you are a story generator who generates fictional stories.\"\n",
        "        },\n",
        "        {\n",
        "            \"role\": \"user\",\n",
        "            \"content\": \"Write a horror story.\"\n",
        "        }\n",
        "    ]\n",
        "}\n",
        "response_data = generate_prompt(api_url, bearer_token, payload)\n",
        "print(response_data['choices'][0]['message']['content'])"
      ],
      "metadata": {
        "colab": {
          "base_uri": "https://localhost:8080/"
        },
        "id": "RkE1XdyDaf_c",
        "outputId": "de7e7023-f0ce-4fe9-c2e8-0992870ef249"
      },
      "execution_count": null,
      "outputs": [
        {
          "output_type": "stream",
          "name": "stdout",
          "text": [
            "Once upon a time in the remote countryside, nestled deep within the dense forest, there stood an old, decrepit mansion. The locals whispered tales of unspeakable horrors that had unfolded within its walls, warning all who dared to venture too close. Yet, there was an inexplicable allure that drew curious souls towards its eerie enchantment.\n",
            "\n",
            "One gloomy autumn evening, a group of friends, enticed by the supernatural legends, decided to explore the infamous mansion. Ella, Peter, Sarah, and Mark, armed only with flashlights and their courage, cautiously entered the sinister abode.\n",
            "\n",
            "As they stepped through the creaking front door, the atmosphere turned thick with an unsettling aura. A chilling draft sent shivers down their spines, causing their hearts to beat with trepidation. The flickering candlelight accentuated the hollow emptiness that surrounded them.\n",
            "\n",
            "The exploration commenced, leading them through narrow hallways and rooms trapped in time. Behind each door, they discovered remnants of forgotten memories, as if the past had never completely vanished. Dolls, their eyes void of life, lined shelves and peered out from forgotten corners. Dark paintings seemed to watch their every move, their subjects distorted and twisted, appearing to shift in the dim light.\n",
            "\n",
            "Descending into the mansion's labyrinthine basement, the friends found themselves standing before a long-abandoned laboratory. Broken beakers and dusty vials littered the tables, and a pungent scent filled the air. Whispers seemed to echo through the damp corridors, growing louder with each step they took.\n",
            "\n",
            "In the midst of their exploration, Ella stumbled upon a peculiar book, its pages worn and leathery, nestled beneath a pile of decayed documents. Curiosity consumed her as she brushed off layers of dust. Unbeknownst to the friends, this book held within its pages a malevolent force that longed for release.\n",
            "\n",
            "As Ella opened the sinister book, a chilling whisper echoed through the chamber. The words on the pages seemed to come alive before her eyes, telling the tale of a deranged scientist who had once resided in the mansion. Driven mad by his experiments, he had delved into the darkest corners of the occult, wishing to merge the living with the dead.\n",
            "\n",
            "Suddenly, a bone-chilling scream erupted from behind them. Mark had been snatched away, disappearing into thin air. Panicked, the remaining friends ran through the maze-like mansion, calling out for their lost companion, only to be met with an eerie silence.\n",
            "\n",
            "As they reached the upper floors, the darkness enveloped them, becoming impenetrable. The mansion seemed alive, shifting and pulsating with an evil force. Whispers multiplied, surrounding them, their words incomprehensible, fueling their terror.\n",
            "\n",
            "One by one, they met their fate, vanishing into the shadows, consumed by the mansion's insatiable hunger. Soon, only Ella remained, running desperately through the haunted halls, her heart pounding in her chest.\n",
            "\n",
            "Finally, she found herself back in the basement, trembling with fear and exhaustion. The ominous book lay open on the ground, its pages still flickering with supernatural energy. Ella knew she had to put an end to the nightmare.\n",
            "\n",
            "Summoning every ounce of courage, she mustered the strength to close the ancient tome, sealing away the malevolent power within. The moment the book snapped shut, the mansion tremored, as if exhaling its final breath. The darkness began to fade, and daylight poured in through the windows.\n",
            "\n",
            "Ella emerged from the mansion, the sole survivor of the harrowing ordeal. She looked back at the once-menacing abode, now reduced to a mere shell of its previous horror. Forever haunted by the memories of that night, she vowed to never speak of what had transpired within its walls, hoping to spare others from the terror she had endured.\n",
            "\n",
            "And so, the old mansion remained dormant, its secrets locked away, waiting for another unsuspecting soul to stumble upon its chilling past.\n"
          ]
        }
      ]
    }
  ]
}